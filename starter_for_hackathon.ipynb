{
  "cells": [
    {
      "cell_type": "markdown",
      "metadata": {
        "id": "view-in-github",
        "colab_type": "text"
      },
      "source": [
        "<a href=\"https://colab.research.google.com/github/Piyush-code-lab/IITG_Analytics/blob/main/starter_for_hackathon.ipynb\" target=\"_parent\"><img src=\"https://colab.research.google.com/assets/colab-badge.svg\" alt=\"Open In Colab\"/></a>"
      ]
    },
    {
      "cell_type": "code",
      "execution_count": 2,
      "id": "a8cbd0db",
      "metadata": {
        "_cell_guid": "b1076dfc-b9ad-4769-8c92-a6c4dae69d19",
        "_uuid": "8f2839f25d086af736a60e9eeb907d3b93b6e0e5",
        "execution": {
          "iopub.execute_input": "2025-06-04T15:58:16.705478Z",
          "iopub.status.busy": "2025-06-04T15:58:16.705120Z",
          "iopub.status.idle": "2025-06-04T15:58:19.104523Z",
          "shell.execute_reply": "2025-06-04T15:58:19.103431Z"
        },
        "papermill": {
          "duration": 2.406058,
          "end_time": "2025-06-04T15:58:19.106134",
          "exception": false,
          "start_time": "2025-06-04T15:58:16.700076",
          "status": "completed"
        },
        "tags": [],
        "id": "a8cbd0db"
      },
      "outputs": [],
      "source": [
        "# Imports\n",
        "import pandas as pd\n",
        "import numpy as np\n",
        "from sklearn.linear_model import LogisticRegression\n",
        "from sklearn.model_selection import train_test_split, cross_val_score\n",
        "from sklearn.preprocessing import LabelEncoder, StandardScaler\n",
        "from sklearn.metrics import classification_report\n",
        "from sklearn.pipeline import Pipeline"
      ]
    },
    {
      "cell_type": "code",
      "execution_count": 4,
      "id": "52fc0999",
      "metadata": {
        "execution": {
          "iopub.execute_input": "2025-06-04T15:58:19.114208Z",
          "iopub.status.busy": "2025-06-04T15:58:19.113809Z",
          "iopub.status.idle": "2025-06-04T15:58:19.269452Z",
          "shell.execute_reply": "2025-06-04T15:58:19.268010Z"
        },
        "papermill": {
          "duration": 0.161514,
          "end_time": "2025-06-04T15:58:19.271341",
          "exception": false,
          "start_time": "2025-06-04T15:58:19.109827",
          "status": "completed"
        },
        "tags": [],
        "id": "52fc0999",
        "outputId": "963b4774-b1de-4bc2-9a10-615a0c48fdc9",
        "colab": {
          "base_uri": "https://localhost:8080/"
        }
      },
      "outputs": [
        {
          "output_type": "stream",
          "name": "stdout",
          "text": [
            "Train shape: (8000, 29)\n",
            "Test shape: (2845, 28)\n"
          ]
        }
      ],
      "source": [
        " # Load data\n",
        " train_df = pd.read_csv('/content/hacktrain.csv')\n",
        " test_df = pd.read_csv('/content/hacktest.csv')\n",
        " # Drop Unnamed: 0 if present\n",
        " train_df = train_df.drop(columns=['Unnamed: 0'], errors='ignore')\n",
        " test_df = test_df.drop(columns=['Unnamed: 0'], errors='ignore')\n",
        " # Show shape\n",
        " print(\"Train shape:\", train_df.shape)\n",
        " print(\"Test shape:\", test_df.shape)"
      ]
    },
    {
      "cell_type": "code",
      "execution_count": 5,
      "id": "92e3be16",
      "metadata": {
        "execution": {
          "iopub.execute_input": "2025-06-04T15:58:19.281351Z",
          "iopub.status.busy": "2025-06-04T15:58:19.280881Z",
          "iopub.status.idle": "2025-06-04T15:58:19.297749Z",
          "shell.execute_reply": "2025-06-04T15:58:19.296541Z"
        },
        "papermill": {
          "duration": 0.023701,
          "end_time": "2025-06-04T15:58:19.299357",
          "exception": false,
          "start_time": "2025-06-04T15:58:19.275656",
          "status": "completed"
        },
        "tags": [],
        "id": "92e3be16"
      },
      "outputs": [],
      "source": [
        " # Simple but better: median imputation (median works better for NDVI with outliers)\n",
        " train_df.fillna(train_df.median(numeric_only=True), inplace=True)\n",
        " test_df.fillna(test_df.median(numeric_only=True), inplace=True)"
      ]
    },
    {
      "cell_type": "code",
      "execution_count": 6,
      "id": "8646c661",
      "metadata": {
        "execution": {
          "iopub.execute_input": "2025-06-04T15:58:19.308529Z",
          "iopub.status.busy": "2025-06-04T15:58:19.308132Z",
          "iopub.status.idle": "2025-06-04T15:58:19.339698Z",
          "shell.execute_reply": "2025-06-04T15:58:19.338734Z"
        },
        "papermill": {
          "duration": 0.037963,
          "end_time": "2025-06-04T15:58:19.341331",
          "exception": false,
          "start_time": "2025-06-04T15:58:19.303368",
          "status": "completed"
        },
        "tags": [],
        "id": "8646c661"
      },
      "outputs": [],
      "source": [
        " # Select NDVI columns\n",
        " ndvi_columns = [col for col in train_df.columns if '_N' in col]\n",
        " # Add new features:\n",
        " # Mean NDVI\n",
        " train_df['NDVI_mean'] = train_df[ndvi_columns].mean(axis=1)\n",
        " test_df['NDVI_mean'] = test_df[ndvi_columns].mean(axis=1)\n",
        " # Standard deviation of NDVI\n",
        " train_df['NDVI_std'] = train_df[ndvi_columns].std(axis=1)\n",
        " test_df['NDVI_std'] = test_df[ndvi_columns].std(axis=1)\n",
        " # Max NDVI - Min NDVI (Amplitude)\n",
        " train_df['NDVI_amp'] = train_df[ndvi_columns].max(axis=1) - train_df[ndvi_columns].min(axis=1)\n",
        " test_df['NDVI_amp'] = test_df[ndvi_columns].max(axis=1) - test_df[ndvi_columns].min(axis=1)\n",
        " # You can add even more features later (seasonality, trends)"
      ]
    },
    {
      "cell_type": "code",
      "execution_count": 7,
      "id": "c5a6f9fa",
      "metadata": {
        "execution": {
          "iopub.execute_input": "2025-06-04T15:58:19.350301Z",
          "iopub.status.busy": "2025-06-04T15:58:19.349991Z",
          "iopub.status.idle": "2025-06-04T15:58:21.995502Z",
          "shell.execute_reply": "2025-06-04T15:58:21.992246Z"
        },
        "papermill": {
          "duration": 2.652139,
          "end_time": "2025-06-04T15:58:21.997405",
          "exception": false,
          "start_time": "2025-06-04T15:58:19.345266",
          "status": "completed"
        },
        "tags": [],
        "id": "c5a6f9fa"
      },
      "outputs": [],
      "source": [
        " # Encode target class\n",
        " label_encoder = LabelEncoder()\n",
        " train_df['class'] = label_encoder.fit_transform(train_df['class'])"
      ]
    },
    {
      "cell_type": "code",
      "execution_count": 8,
      "id": "ff1cd1b8",
      "metadata": {
        "execution": {
          "iopub.execute_input": "2025-06-04T15:58:22.013108Z",
          "iopub.status.busy": "2025-06-04T15:58:22.012559Z",
          "iopub.status.idle": "2025-06-04T15:58:22.070775Z",
          "shell.execute_reply": "2025-06-04T15:58:22.069883Z"
        },
        "papermill": {
          "duration": 0.068872,
          "end_time": "2025-06-04T15:58:22.072964",
          "exception": false,
          "start_time": "2025-06-04T15:58:22.004092",
          "status": "completed"
        },
        "tags": [],
        "id": "ff1cd1b8",
        "outputId": "46efddd3-da4c-4888-9e72-50d41362d96c",
        "colab": {
          "base_uri": "https://localhost:8080/"
        }
      },
      "outputs": [
        {
          "output_type": "stream",
          "name": "stdout",
          "text": [
            "Train samples: 6400\n",
            "Validation samples: 1600\n"
          ]
        }
      ],
      "source": [
        " # Features and target\n",
        " X = train_df.drop(columns=['ID', 'class'])\n",
        " y = train_df['class']\n",
        " # Split\n",
        " X_train, X_valid, y_train, y_valid = train_test_split(\n",
        "    X, y, test_size=0.2, random_state=42, stratify=y\n",
        " )\n",
        " print(\"Train samples:\", X_train.shape[0])\n",
        " print(\"Validation samples:\", X_valid.shape[0])"
      ]
    },
    {
      "cell_type": "code",
      "execution_count": 9,
      "id": "ac73a96b",
      "metadata": {
        "execution": {
          "iopub.execute_input": "2025-06-04T15:58:22.083517Z",
          "iopub.status.busy": "2025-06-04T15:58:22.083182Z",
          "iopub.status.idle": "2025-06-04T15:58:22.089394Z",
          "shell.execute_reply": "2025-06-04T15:58:22.088300Z"
        },
        "papermill": {
          "duration": 0.013382,
          "end_time": "2025-06-04T15:58:22.091265",
          "exception": false,
          "start_time": "2025-06-04T15:58:22.077883",
          "status": "completed"
        },
        "tags": [],
        "id": "ac73a96b",
        "outputId": "a4dc4eb2-0ecc-49a9-cb0d-a8e09e64d74c",
        "colab": {
          "base_uri": "https://localhost:8080/",
          "height": 210
        }
      },
      "outputs": [
        {
          "output_type": "stream",
          "name": "stderr",
          "text": [
            "/usr/local/lib/python3.11/dist-packages/sklearn/linear_model/_logistic.py:1247: FutureWarning: 'multi_class' was deprecated in version 1.5 and will be removed in 1.7. From then on, it will always use 'multinomial'. Leave it to its default value to avoid this warning.\n",
            "  warnings.warn(\n"
          ]
        },
        {
          "output_type": "execute_result",
          "data": {
            "text/plain": [
              "Pipeline(steps=[('scaler', StandardScaler()),\n",
              "                ('clf',\n",
              "                 LogisticRegression(class_weight='balanced', max_iter=1000,\n",
              "                                    multi_class='multinomial',\n",
              "                                    random_state=42))])"
            ],
            "text/html": [
              "<style>#sk-container-id-1 {\n",
              "  /* Definition of color scheme common for light and dark mode */\n",
              "  --sklearn-color-text: #000;\n",
              "  --sklearn-color-text-muted: #666;\n",
              "  --sklearn-color-line: gray;\n",
              "  /* Definition of color scheme for unfitted estimators */\n",
              "  --sklearn-color-unfitted-level-0: #fff5e6;\n",
              "  --sklearn-color-unfitted-level-1: #f6e4d2;\n",
              "  --sklearn-color-unfitted-level-2: #ffe0b3;\n",
              "  --sklearn-color-unfitted-level-3: chocolate;\n",
              "  /* Definition of color scheme for fitted estimators */\n",
              "  --sklearn-color-fitted-level-0: #f0f8ff;\n",
              "  --sklearn-color-fitted-level-1: #d4ebff;\n",
              "  --sklearn-color-fitted-level-2: #b3dbfd;\n",
              "  --sklearn-color-fitted-level-3: cornflowerblue;\n",
              "\n",
              "  /* Specific color for light theme */\n",
              "  --sklearn-color-text-on-default-background: var(--sg-text-color, var(--theme-code-foreground, var(--jp-content-font-color1, black)));\n",
              "  --sklearn-color-background: var(--sg-background-color, var(--theme-background, var(--jp-layout-color0, white)));\n",
              "  --sklearn-color-border-box: var(--sg-text-color, var(--theme-code-foreground, var(--jp-content-font-color1, black)));\n",
              "  --sklearn-color-icon: #696969;\n",
              "\n",
              "  @media (prefers-color-scheme: dark) {\n",
              "    /* Redefinition of color scheme for dark theme */\n",
              "    --sklearn-color-text-on-default-background: var(--sg-text-color, var(--theme-code-foreground, var(--jp-content-font-color1, white)));\n",
              "    --sklearn-color-background: var(--sg-background-color, var(--theme-background, var(--jp-layout-color0, #111)));\n",
              "    --sklearn-color-border-box: var(--sg-text-color, var(--theme-code-foreground, var(--jp-content-font-color1, white)));\n",
              "    --sklearn-color-icon: #878787;\n",
              "  }\n",
              "}\n",
              "\n",
              "#sk-container-id-1 {\n",
              "  color: var(--sklearn-color-text);\n",
              "}\n",
              "\n",
              "#sk-container-id-1 pre {\n",
              "  padding: 0;\n",
              "}\n",
              "\n",
              "#sk-container-id-1 input.sk-hidden--visually {\n",
              "  border: 0;\n",
              "  clip: rect(1px 1px 1px 1px);\n",
              "  clip: rect(1px, 1px, 1px, 1px);\n",
              "  height: 1px;\n",
              "  margin: -1px;\n",
              "  overflow: hidden;\n",
              "  padding: 0;\n",
              "  position: absolute;\n",
              "  width: 1px;\n",
              "}\n",
              "\n",
              "#sk-container-id-1 div.sk-dashed-wrapped {\n",
              "  border: 1px dashed var(--sklearn-color-line);\n",
              "  margin: 0 0.4em 0.5em 0.4em;\n",
              "  box-sizing: border-box;\n",
              "  padding-bottom: 0.4em;\n",
              "  background-color: var(--sklearn-color-background);\n",
              "}\n",
              "\n",
              "#sk-container-id-1 div.sk-container {\n",
              "  /* jupyter's `normalize.less` sets `[hidden] { display: none; }`\n",
              "     but bootstrap.min.css set `[hidden] { display: none !important; }`\n",
              "     so we also need the `!important` here to be able to override the\n",
              "     default hidden behavior on the sphinx rendered scikit-learn.org.\n",
              "     See: https://github.com/scikit-learn/scikit-learn/issues/21755 */\n",
              "  display: inline-block !important;\n",
              "  position: relative;\n",
              "}\n",
              "\n",
              "#sk-container-id-1 div.sk-text-repr-fallback {\n",
              "  display: none;\n",
              "}\n",
              "\n",
              "div.sk-parallel-item,\n",
              "div.sk-serial,\n",
              "div.sk-item {\n",
              "  /* draw centered vertical line to link estimators */\n",
              "  background-image: linear-gradient(var(--sklearn-color-text-on-default-background), var(--sklearn-color-text-on-default-background));\n",
              "  background-size: 2px 100%;\n",
              "  background-repeat: no-repeat;\n",
              "  background-position: center center;\n",
              "}\n",
              "\n",
              "/* Parallel-specific style estimator block */\n",
              "\n",
              "#sk-container-id-1 div.sk-parallel-item::after {\n",
              "  content: \"\";\n",
              "  width: 100%;\n",
              "  border-bottom: 2px solid var(--sklearn-color-text-on-default-background);\n",
              "  flex-grow: 1;\n",
              "}\n",
              "\n",
              "#sk-container-id-1 div.sk-parallel {\n",
              "  display: flex;\n",
              "  align-items: stretch;\n",
              "  justify-content: center;\n",
              "  background-color: var(--sklearn-color-background);\n",
              "  position: relative;\n",
              "}\n",
              "\n",
              "#sk-container-id-1 div.sk-parallel-item {\n",
              "  display: flex;\n",
              "  flex-direction: column;\n",
              "}\n",
              "\n",
              "#sk-container-id-1 div.sk-parallel-item:first-child::after {\n",
              "  align-self: flex-end;\n",
              "  width: 50%;\n",
              "}\n",
              "\n",
              "#sk-container-id-1 div.sk-parallel-item:last-child::after {\n",
              "  align-self: flex-start;\n",
              "  width: 50%;\n",
              "}\n",
              "\n",
              "#sk-container-id-1 div.sk-parallel-item:only-child::after {\n",
              "  width: 0;\n",
              "}\n",
              "\n",
              "/* Serial-specific style estimator block */\n",
              "\n",
              "#sk-container-id-1 div.sk-serial {\n",
              "  display: flex;\n",
              "  flex-direction: column;\n",
              "  align-items: center;\n",
              "  background-color: var(--sklearn-color-background);\n",
              "  padding-right: 1em;\n",
              "  padding-left: 1em;\n",
              "}\n",
              "\n",
              "\n",
              "/* Toggleable style: style used for estimator/Pipeline/ColumnTransformer box that is\n",
              "clickable and can be expanded/collapsed.\n",
              "- Pipeline and ColumnTransformer use this feature and define the default style\n",
              "- Estimators will overwrite some part of the style using the `sk-estimator` class\n",
              "*/\n",
              "\n",
              "/* Pipeline and ColumnTransformer style (default) */\n",
              "\n",
              "#sk-container-id-1 div.sk-toggleable {\n",
              "  /* Default theme specific background. It is overwritten whether we have a\n",
              "  specific estimator or a Pipeline/ColumnTransformer */\n",
              "  background-color: var(--sklearn-color-background);\n",
              "}\n",
              "\n",
              "/* Toggleable label */\n",
              "#sk-container-id-1 label.sk-toggleable__label {\n",
              "  cursor: pointer;\n",
              "  display: flex;\n",
              "  width: 100%;\n",
              "  margin-bottom: 0;\n",
              "  padding: 0.5em;\n",
              "  box-sizing: border-box;\n",
              "  text-align: center;\n",
              "  align-items: start;\n",
              "  justify-content: space-between;\n",
              "  gap: 0.5em;\n",
              "}\n",
              "\n",
              "#sk-container-id-1 label.sk-toggleable__label .caption {\n",
              "  font-size: 0.6rem;\n",
              "  font-weight: lighter;\n",
              "  color: var(--sklearn-color-text-muted);\n",
              "}\n",
              "\n",
              "#sk-container-id-1 label.sk-toggleable__label-arrow:before {\n",
              "  /* Arrow on the left of the label */\n",
              "  content: \"▸\";\n",
              "  float: left;\n",
              "  margin-right: 0.25em;\n",
              "  color: var(--sklearn-color-icon);\n",
              "}\n",
              "\n",
              "#sk-container-id-1 label.sk-toggleable__label-arrow:hover:before {\n",
              "  color: var(--sklearn-color-text);\n",
              "}\n",
              "\n",
              "/* Toggleable content - dropdown */\n",
              "\n",
              "#sk-container-id-1 div.sk-toggleable__content {\n",
              "  max-height: 0;\n",
              "  max-width: 0;\n",
              "  overflow: hidden;\n",
              "  text-align: left;\n",
              "  /* unfitted */\n",
              "  background-color: var(--sklearn-color-unfitted-level-0);\n",
              "}\n",
              "\n",
              "#sk-container-id-1 div.sk-toggleable__content.fitted {\n",
              "  /* fitted */\n",
              "  background-color: var(--sklearn-color-fitted-level-0);\n",
              "}\n",
              "\n",
              "#sk-container-id-1 div.sk-toggleable__content pre {\n",
              "  margin: 0.2em;\n",
              "  border-radius: 0.25em;\n",
              "  color: var(--sklearn-color-text);\n",
              "  /* unfitted */\n",
              "  background-color: var(--sklearn-color-unfitted-level-0);\n",
              "}\n",
              "\n",
              "#sk-container-id-1 div.sk-toggleable__content.fitted pre {\n",
              "  /* unfitted */\n",
              "  background-color: var(--sklearn-color-fitted-level-0);\n",
              "}\n",
              "\n",
              "#sk-container-id-1 input.sk-toggleable__control:checked~div.sk-toggleable__content {\n",
              "  /* Expand drop-down */\n",
              "  max-height: 200px;\n",
              "  max-width: 100%;\n",
              "  overflow: auto;\n",
              "}\n",
              "\n",
              "#sk-container-id-1 input.sk-toggleable__control:checked~label.sk-toggleable__label-arrow:before {\n",
              "  content: \"▾\";\n",
              "}\n",
              "\n",
              "/* Pipeline/ColumnTransformer-specific style */\n",
              "\n",
              "#sk-container-id-1 div.sk-label input.sk-toggleable__control:checked~label.sk-toggleable__label {\n",
              "  color: var(--sklearn-color-text);\n",
              "  background-color: var(--sklearn-color-unfitted-level-2);\n",
              "}\n",
              "\n",
              "#sk-container-id-1 div.sk-label.fitted input.sk-toggleable__control:checked~label.sk-toggleable__label {\n",
              "  background-color: var(--sklearn-color-fitted-level-2);\n",
              "}\n",
              "\n",
              "/* Estimator-specific style */\n",
              "\n",
              "/* Colorize estimator box */\n",
              "#sk-container-id-1 div.sk-estimator input.sk-toggleable__control:checked~label.sk-toggleable__label {\n",
              "  /* unfitted */\n",
              "  background-color: var(--sklearn-color-unfitted-level-2);\n",
              "}\n",
              "\n",
              "#sk-container-id-1 div.sk-estimator.fitted input.sk-toggleable__control:checked~label.sk-toggleable__label {\n",
              "  /* fitted */\n",
              "  background-color: var(--sklearn-color-fitted-level-2);\n",
              "}\n",
              "\n",
              "#sk-container-id-1 div.sk-label label.sk-toggleable__label,\n",
              "#sk-container-id-1 div.sk-label label {\n",
              "  /* The background is the default theme color */\n",
              "  color: var(--sklearn-color-text-on-default-background);\n",
              "}\n",
              "\n",
              "/* On hover, darken the color of the background */\n",
              "#sk-container-id-1 div.sk-label:hover label.sk-toggleable__label {\n",
              "  color: var(--sklearn-color-text);\n",
              "  background-color: var(--sklearn-color-unfitted-level-2);\n",
              "}\n",
              "\n",
              "/* Label box, darken color on hover, fitted */\n",
              "#sk-container-id-1 div.sk-label.fitted:hover label.sk-toggleable__label.fitted {\n",
              "  color: var(--sklearn-color-text);\n",
              "  background-color: var(--sklearn-color-fitted-level-2);\n",
              "}\n",
              "\n",
              "/* Estimator label */\n",
              "\n",
              "#sk-container-id-1 div.sk-label label {\n",
              "  font-family: monospace;\n",
              "  font-weight: bold;\n",
              "  display: inline-block;\n",
              "  line-height: 1.2em;\n",
              "}\n",
              "\n",
              "#sk-container-id-1 div.sk-label-container {\n",
              "  text-align: center;\n",
              "}\n",
              "\n",
              "/* Estimator-specific */\n",
              "#sk-container-id-1 div.sk-estimator {\n",
              "  font-family: monospace;\n",
              "  border: 1px dotted var(--sklearn-color-border-box);\n",
              "  border-radius: 0.25em;\n",
              "  box-sizing: border-box;\n",
              "  margin-bottom: 0.5em;\n",
              "  /* unfitted */\n",
              "  background-color: var(--sklearn-color-unfitted-level-0);\n",
              "}\n",
              "\n",
              "#sk-container-id-1 div.sk-estimator.fitted {\n",
              "  /* fitted */\n",
              "  background-color: var(--sklearn-color-fitted-level-0);\n",
              "}\n",
              "\n",
              "/* on hover */\n",
              "#sk-container-id-1 div.sk-estimator:hover {\n",
              "  /* unfitted */\n",
              "  background-color: var(--sklearn-color-unfitted-level-2);\n",
              "}\n",
              "\n",
              "#sk-container-id-1 div.sk-estimator.fitted:hover {\n",
              "  /* fitted */\n",
              "  background-color: var(--sklearn-color-fitted-level-2);\n",
              "}\n",
              "\n",
              "/* Specification for estimator info (e.g. \"i\" and \"?\") */\n",
              "\n",
              "/* Common style for \"i\" and \"?\" */\n",
              "\n",
              ".sk-estimator-doc-link,\n",
              "a:link.sk-estimator-doc-link,\n",
              "a:visited.sk-estimator-doc-link {\n",
              "  float: right;\n",
              "  font-size: smaller;\n",
              "  line-height: 1em;\n",
              "  font-family: monospace;\n",
              "  background-color: var(--sklearn-color-background);\n",
              "  border-radius: 1em;\n",
              "  height: 1em;\n",
              "  width: 1em;\n",
              "  text-decoration: none !important;\n",
              "  margin-left: 0.5em;\n",
              "  text-align: center;\n",
              "  /* unfitted */\n",
              "  border: var(--sklearn-color-unfitted-level-1) 1pt solid;\n",
              "  color: var(--sklearn-color-unfitted-level-1);\n",
              "}\n",
              "\n",
              ".sk-estimator-doc-link.fitted,\n",
              "a:link.sk-estimator-doc-link.fitted,\n",
              "a:visited.sk-estimator-doc-link.fitted {\n",
              "  /* fitted */\n",
              "  border: var(--sklearn-color-fitted-level-1) 1pt solid;\n",
              "  color: var(--sklearn-color-fitted-level-1);\n",
              "}\n",
              "\n",
              "/* On hover */\n",
              "div.sk-estimator:hover .sk-estimator-doc-link:hover,\n",
              ".sk-estimator-doc-link:hover,\n",
              "div.sk-label-container:hover .sk-estimator-doc-link:hover,\n",
              ".sk-estimator-doc-link:hover {\n",
              "  /* unfitted */\n",
              "  background-color: var(--sklearn-color-unfitted-level-3);\n",
              "  color: var(--sklearn-color-background);\n",
              "  text-decoration: none;\n",
              "}\n",
              "\n",
              "div.sk-estimator.fitted:hover .sk-estimator-doc-link.fitted:hover,\n",
              ".sk-estimator-doc-link.fitted:hover,\n",
              "div.sk-label-container:hover .sk-estimator-doc-link.fitted:hover,\n",
              ".sk-estimator-doc-link.fitted:hover {\n",
              "  /* fitted */\n",
              "  background-color: var(--sklearn-color-fitted-level-3);\n",
              "  color: var(--sklearn-color-background);\n",
              "  text-decoration: none;\n",
              "}\n",
              "\n",
              "/* Span, style for the box shown on hovering the info icon */\n",
              ".sk-estimator-doc-link span {\n",
              "  display: none;\n",
              "  z-index: 9999;\n",
              "  position: relative;\n",
              "  font-weight: normal;\n",
              "  right: .2ex;\n",
              "  padding: .5ex;\n",
              "  margin: .5ex;\n",
              "  width: min-content;\n",
              "  min-width: 20ex;\n",
              "  max-width: 50ex;\n",
              "  color: var(--sklearn-color-text);\n",
              "  box-shadow: 2pt 2pt 4pt #999;\n",
              "  /* unfitted */\n",
              "  background: var(--sklearn-color-unfitted-level-0);\n",
              "  border: .5pt solid var(--sklearn-color-unfitted-level-3);\n",
              "}\n",
              "\n",
              ".sk-estimator-doc-link.fitted span {\n",
              "  /* fitted */\n",
              "  background: var(--sklearn-color-fitted-level-0);\n",
              "  border: var(--sklearn-color-fitted-level-3);\n",
              "}\n",
              "\n",
              ".sk-estimator-doc-link:hover span {\n",
              "  display: block;\n",
              "}\n",
              "\n",
              "/* \"?\"-specific style due to the `<a>` HTML tag */\n",
              "\n",
              "#sk-container-id-1 a.estimator_doc_link {\n",
              "  float: right;\n",
              "  font-size: 1rem;\n",
              "  line-height: 1em;\n",
              "  font-family: monospace;\n",
              "  background-color: var(--sklearn-color-background);\n",
              "  border-radius: 1rem;\n",
              "  height: 1rem;\n",
              "  width: 1rem;\n",
              "  text-decoration: none;\n",
              "  /* unfitted */\n",
              "  color: var(--sklearn-color-unfitted-level-1);\n",
              "  border: var(--sklearn-color-unfitted-level-1) 1pt solid;\n",
              "}\n",
              "\n",
              "#sk-container-id-1 a.estimator_doc_link.fitted {\n",
              "  /* fitted */\n",
              "  border: var(--sklearn-color-fitted-level-1) 1pt solid;\n",
              "  color: var(--sklearn-color-fitted-level-1);\n",
              "}\n",
              "\n",
              "/* On hover */\n",
              "#sk-container-id-1 a.estimator_doc_link:hover {\n",
              "  /* unfitted */\n",
              "  background-color: var(--sklearn-color-unfitted-level-3);\n",
              "  color: var(--sklearn-color-background);\n",
              "  text-decoration: none;\n",
              "}\n",
              "\n",
              "#sk-container-id-1 a.estimator_doc_link.fitted:hover {\n",
              "  /* fitted */\n",
              "  background-color: var(--sklearn-color-fitted-level-3);\n",
              "}\n",
              "</style><div id=\"sk-container-id-1\" class=\"sk-top-container\"><div class=\"sk-text-repr-fallback\"><pre>Pipeline(steps=[(&#x27;scaler&#x27;, StandardScaler()),\n",
              "                (&#x27;clf&#x27;,\n",
              "                 LogisticRegression(class_weight=&#x27;balanced&#x27;, max_iter=1000,\n",
              "                                    multi_class=&#x27;multinomial&#x27;,\n",
              "                                    random_state=42))])</pre><b>In a Jupyter environment, please rerun this cell to show the HTML representation or trust the notebook. <br />On GitHub, the HTML representation is unable to render, please try loading this page with nbviewer.org.</b></div><div class=\"sk-container\" hidden><div class=\"sk-item sk-dashed-wrapped\"><div class=\"sk-label-container\"><div class=\"sk-label fitted sk-toggleable\"><input class=\"sk-toggleable__control sk-hidden--visually\" id=\"sk-estimator-id-1\" type=\"checkbox\" ><label for=\"sk-estimator-id-1\" class=\"sk-toggleable__label fitted sk-toggleable__label-arrow\"><div><div>Pipeline</div></div><div><a class=\"sk-estimator-doc-link fitted\" rel=\"noreferrer\" target=\"_blank\" href=\"https://scikit-learn.org/1.6/modules/generated/sklearn.pipeline.Pipeline.html\">?<span>Documentation for Pipeline</span></a><span class=\"sk-estimator-doc-link fitted\">i<span>Fitted</span></span></div></label><div class=\"sk-toggleable__content fitted\"><pre>Pipeline(steps=[(&#x27;scaler&#x27;, StandardScaler()),\n",
              "                (&#x27;clf&#x27;,\n",
              "                 LogisticRegression(class_weight=&#x27;balanced&#x27;, max_iter=1000,\n",
              "                                    multi_class=&#x27;multinomial&#x27;,\n",
              "                                    random_state=42))])</pre></div> </div></div><div class=\"sk-serial\"><div class=\"sk-item\"><div class=\"sk-estimator fitted sk-toggleable\"><input class=\"sk-toggleable__control sk-hidden--visually\" id=\"sk-estimator-id-2\" type=\"checkbox\" ><label for=\"sk-estimator-id-2\" class=\"sk-toggleable__label fitted sk-toggleable__label-arrow\"><div><div>StandardScaler</div></div><div><a class=\"sk-estimator-doc-link fitted\" rel=\"noreferrer\" target=\"_blank\" href=\"https://scikit-learn.org/1.6/modules/generated/sklearn.preprocessing.StandardScaler.html\">?<span>Documentation for StandardScaler</span></a></div></label><div class=\"sk-toggleable__content fitted\"><pre>StandardScaler()</pre></div> </div></div><div class=\"sk-item\"><div class=\"sk-estimator fitted sk-toggleable\"><input class=\"sk-toggleable__control sk-hidden--visually\" id=\"sk-estimator-id-3\" type=\"checkbox\" ><label for=\"sk-estimator-id-3\" class=\"sk-toggleable__label fitted sk-toggleable__label-arrow\"><div><div>LogisticRegression</div></div><div><a class=\"sk-estimator-doc-link fitted\" rel=\"noreferrer\" target=\"_blank\" href=\"https://scikit-learn.org/1.6/modules/generated/sklearn.linear_model.LogisticRegression.html\">?<span>Documentation for LogisticRegression</span></a></div></label><div class=\"sk-toggleable__content fitted\"><pre>LogisticRegression(class_weight=&#x27;balanced&#x27;, max_iter=1000,\n",
              "                   multi_class=&#x27;multinomial&#x27;, random_state=42)</pre></div> </div></div></div></div></div></div>"
            ]
          },
          "metadata": {},
          "execution_count": 9
        }
      ],
      "source": [
        " # Pipeline: Scaling + Logistic Regression\n",
        " pipeline = Pipeline([ ('scaler', StandardScaler()),\n",
        "    ('clf', LogisticRegression(\n",
        "        multi_class='multinomial',\n",
        "        solver='lbfgs',\n",
        "        max_iter=1000,\n",
        "        class_weight='balanced', # very important!\n",
        "        random_state=42\n",
        "    ))\n",
        " ])\n",
        " # Train\n",
        " pipeline.fit(X_train, y_train)"
      ]
    },
    {
      "cell_type": "code",
      "execution_count": 10,
      "id": "e65b77a4",
      "metadata": {
        "execution": {
          "iopub.execute_input": "2025-06-04T15:58:22.100828Z",
          "iopub.status.busy": "2025-06-04T15:58:22.100506Z",
          "iopub.status.idle": "2025-06-04T15:58:22.107742Z",
          "shell.execute_reply": "2025-06-04T15:58:22.106845Z"
        },
        "papermill": {
          "duration": 0.013618,
          "end_time": "2025-06-04T15:58:22.109275",
          "exception": false,
          "start_time": "2025-06-04T15:58:22.095657",
          "status": "completed"
        },
        "tags": [],
        "id": "e65b77a4",
        "outputId": "2705c24c-db29-4b84-ab44-be18796ad7c2",
        "colab": {
          "base_uri": "https://localhost:8080/"
        }
      },
      "outputs": [
        {
          "output_type": "stream",
          "name": "stdout",
          "text": [
            "              precision    recall  f1-score   support\n",
            "\n",
            "        farm       0.55      0.73      0.63       168\n",
            "      forest       0.98      0.82      0.90      1232\n",
            "       grass       0.33      0.67      0.44        39\n",
            "  impervious       0.76      0.80      0.78       134\n",
            "     orchard       0.08      0.83      0.14         6\n",
            "       water       0.26      0.81      0.40        21\n",
            "\n",
            "    accuracy                           0.81      1600\n",
            "   macro avg       0.49      0.78      0.55      1600\n",
            "weighted avg       0.89      0.81      0.84      1600\n",
            "\n"
          ]
        }
      ],
      "source": [
        " # Predict on validation set\n",
        " y_valid_pred = pipeline.predict(X_valid)\n",
        " # Classification report\n",
        " print(classification_report(\n",
        "    y_valid,\n",
        "    y_valid_pred,\n",
        "    labels=list(range(len(label_encoder.classes_))),\n",
        "    target_names=label_encoder.classes_\n",
        " ))"
      ]
    },
    {
      "cell_type": "code",
      "execution_count": 11,
      "id": "44be4c4c",
      "metadata": {
        "execution": {
          "iopub.execute_input": "2025-06-04T15:58:22.118877Z",
          "iopub.status.busy": "2025-06-04T15:58:22.118550Z",
          "iopub.status.idle": "2025-06-04T15:58:22.124893Z",
          "shell.execute_reply": "2025-06-04T15:58:22.124077Z"
        },
        "papermill": {
          "duration": 0.01289,
          "end_time": "2025-06-04T15:58:22.126324",
          "exception": false,
          "start_time": "2025-06-04T15:58:22.113434",
          "status": "completed"
        },
        "tags": [],
        "id": "44be4c4c",
        "outputId": "2a7dc6b3-588a-4c13-d8f8-8c82f6f26426",
        "colab": {
          "base_uri": "https://localhost:8080/"
        }
      },
      "outputs": [
        {
          "output_type": "stream",
          "name": "stderr",
          "text": [
            "/usr/local/lib/python3.11/dist-packages/sklearn/linear_model/_logistic.py:1247: FutureWarning: 'multi_class' was deprecated in version 1.5 and will be removed in 1.7. From then on, it will always use 'multinomial'. Leave it to its default value to avoid this warning.\n",
            "  warnings.warn(\n",
            "/usr/local/lib/python3.11/dist-packages/sklearn/linear_model/_logistic.py:1247: FutureWarning: 'multi_class' was deprecated in version 1.5 and will be removed in 1.7. From then on, it will always use 'multinomial'. Leave it to its default value to avoid this warning.\n",
            "  warnings.warn(\n",
            "/usr/local/lib/python3.11/dist-packages/sklearn/linear_model/_logistic.py:1247: FutureWarning: 'multi_class' was deprecated in version 1.5 and will be removed in 1.7. From then on, it will always use 'multinomial'. Leave it to its default value to avoid this warning.\n",
            "  warnings.warn(\n",
            "/usr/local/lib/python3.11/dist-packages/sklearn/linear_model/_logistic.py:1247: FutureWarning: 'multi_class' was deprecated in version 1.5 and will be removed in 1.7. From then on, it will always use 'multinomial'. Leave it to its default value to avoid this warning.\n",
            "  warnings.warn(\n",
            "/usr/local/lib/python3.11/dist-packages/sklearn/linear_model/_logistic.py:1247: FutureWarning: 'multi_class' was deprecated in version 1.5 and will be removed in 1.7. From then on, it will always use 'multinomial'. Leave it to its default value to avoid this warning.\n",
            "  warnings.warn(\n"
          ]
        },
        {
          "output_type": "stream",
          "name": "stdout",
          "text": [
            "CV accuracy scores: [0.71125  0.71375  0.77875  0.78875  0.728125]\n",
            "Mean CV accuracy: 0.744125\n"
          ]
        }
      ],
      "source": [
        " # 5-fold cross validation (optional but gives a better idea of model stability)\n",
        " cv_scores = cross_val_score(pipeline, X, y, cv=5, scoring='accuracy')\n",
        " print(\"CV accuracy scores:\", cv_scores)\n",
        " print(\"Mean CV accuracy:\", np.mean(cv_scores))"
      ]
    },
    {
      "cell_type": "code",
      "execution_count": 12,
      "id": "aeee262b",
      "metadata": {
        "execution": {
          "iopub.execute_input": "2025-06-04T15:58:22.135812Z",
          "iopub.status.busy": "2025-06-04T15:58:22.135493Z",
          "iopub.status.idle": "2025-06-04T15:58:22.142058Z",
          "shell.execute_reply": "2025-06-04T15:58:22.141224Z"
        },
        "papermill": {
          "duration": 0.013121,
          "end_time": "2025-06-04T15:58:22.143689",
          "exception": false,
          "start_time": "2025-06-04T15:58:22.130568",
          "status": "completed"
        },
        "tags": [],
        "id": "aeee262b",
        "outputId": "74febe18-0760-4e4b-9ca0-879898b04667",
        "colab": {
          "base_uri": "https://localhost:8080/"
        }
      },
      "outputs": [
        {
          "output_type": "stream",
          "name": "stdout",
          "text": [
            "Submission file saved!\n"
          ]
        }
      ],
      "source": [
        " # Prepare test features\n",
        " X_test_final = test_df.drop(columns=['ID'])\n",
        " # Predict\n",
        " y_test_pred = pipeline.predict(X_test_final)\n",
        " # Decode classes\n",
        " y_test_decoded = label_encoder.inverse_transform(y_test_pred)\n",
        " # Prepare submission\n",
        " submission_df = pd.DataFrame({\n",
        "    'ID': test_df['ID'],\n",
        "    'class': y_test_decoded\n",
        " })\n",
        " # Save submission\n",
        " submission_df.to_csv('submission.csv', index=False)\n",
        " print(\"Submission file saved!\")"
      ]
    },
    {
      "cell_type": "code",
      "source": [],
      "metadata": {
        "id": "QiSEbAVHXWR8"
      },
      "id": "QiSEbAVHXWR8",
      "execution_count": null,
      "outputs": []
    }
  ],
  "metadata": {
    "kaggle": {
      "accelerator": "none",
      "dataSources": [
        {
          "databundleVersionId": 12585144,
          "sourceId": 104491,
          "sourceType": "competition"
        }
      ],
      "dockerImageVersionId": 31040,
      "isGpuEnabled": false,
      "isInternetEnabled": true,
      "language": "python",
      "sourceType": "notebook"
    },
    "kernelspec": {
      "display_name": "Python 3",
      "language": "python",
      "name": "python3"
    },
    "language_info": {
      "codemirror_mode": {
        "name": "ipython",
        "version": 3
      },
      "file_extension": ".py",
      "mimetype": "text/x-python",
      "name": "python",
      "nbconvert_exporter": "python",
      "pygments_lexer": "ipython3",
      "version": "3.11.11"
    },
    "papermill": {
      "default_parameters": {},
      "duration": 12.460836,
      "end_time": "2025-06-04T15:58:22.939774",
      "environment_variables": {},
      "exception": null,
      "input_path": "__notebook__.ipynb",
      "output_path": "__notebook__.ipynb",
      "parameters": {},
      "start_time": "2025-06-04T15:58:10.478938",
      "version": "2.6.0"
    },
    "colab": {
      "provenance": [],
      "include_colab_link": true
    }
  },
  "nbformat": 4,
  "nbformat_minor": 5
}